{
 "cells": [
  {
   "cell_type": "code",
   "execution_count": 1,
   "id": "social-recovery",
   "metadata": {},
   "outputs": [
    {
     "name": "stdout",
     "output_type": "stream",
     "text": [
      "Using device: cpu\n",
      "Downloading http://yann.lecun.com/exdb/mnist/train-images-idx3-ubyte.gz\n",
      "Failed to download (trying next):\n",
      "HTTP Error 404: Not Found\n",
      "\n",
      "Downloading https://ossci-datasets.s3.amazonaws.com/mnist/train-images-idx3-ubyte.gz\n",
      "Downloading https://ossci-datasets.s3.amazonaws.com/mnist/train-images-idx3-ubyte.gz to ./data/MNIST/raw/train-images-idx3-ubyte.gz\n"
     ]
    },
    {
     "name": "stderr",
     "output_type": "stream",
     "text": [
      "100%|██████████| 9912422/9912422 [00:04<00:00, 2018718.20it/s]\n"
     ]
    },
    {
     "name": "stdout",
     "output_type": "stream",
     "text": [
      "Extracting ./data/MNIST/raw/train-images-idx3-ubyte.gz to ./data/MNIST/raw\n",
      "\n",
      "Downloading http://yann.lecun.com/exdb/mnist/train-labels-idx1-ubyte.gz\n",
      "Failed to download (trying next):\n",
      "HTTP Error 404: Not Found\n",
      "\n",
      "Downloading https://ossci-datasets.s3.amazonaws.com/mnist/train-labels-idx1-ubyte.gz\n",
      "Downloading https://ossci-datasets.s3.amazonaws.com/mnist/train-labels-idx1-ubyte.gz to ./data/MNIST/raw/train-labels-idx1-ubyte.gz\n"
     ]
    },
    {
     "name": "stderr",
     "output_type": "stream",
     "text": [
      "100%|██████████| 28881/28881 [00:00<00:00, 126403.17it/s]\n"
     ]
    },
    {
     "name": "stdout",
     "output_type": "stream",
     "text": [
      "Extracting ./data/MNIST/raw/train-labels-idx1-ubyte.gz to ./data/MNIST/raw\n",
      "\n",
      "Downloading http://yann.lecun.com/exdb/mnist/t10k-images-idx3-ubyte.gz\n",
      "Failed to download (trying next):\n",
      "HTTP Error 404: Not Found\n",
      "\n",
      "Downloading https://ossci-datasets.s3.amazonaws.com/mnist/t10k-images-idx3-ubyte.gz\n",
      "Downloading https://ossci-datasets.s3.amazonaws.com/mnist/t10k-images-idx3-ubyte.gz to ./data/MNIST/raw/t10k-images-idx3-ubyte.gz\n"
     ]
    },
    {
     "name": "stderr",
     "output_type": "stream",
     "text": [
      "100%|██████████| 1648877/1648877 [00:01<00:00, 982769.07it/s] \n"
     ]
    },
    {
     "name": "stdout",
     "output_type": "stream",
     "text": [
      "Extracting ./data/MNIST/raw/t10k-images-idx3-ubyte.gz to ./data/MNIST/raw\n",
      "\n",
      "Downloading http://yann.lecun.com/exdb/mnist/t10k-labels-idx1-ubyte.gz\n",
      "Failed to download (trying next):\n",
      "HTTP Error 404: Not Found\n",
      "\n",
      "Downloading https://ossci-datasets.s3.amazonaws.com/mnist/t10k-labels-idx1-ubyte.gz\n",
      "Downloading https://ossci-datasets.s3.amazonaws.com/mnist/t10k-labels-idx1-ubyte.gz to ./data/MNIST/raw/t10k-labels-idx1-ubyte.gz\n"
     ]
    },
    {
     "name": "stderr",
     "output_type": "stream",
     "text": [
      "100%|██████████| 4542/4542 [00:00<00:00, 1873208.34it/s]\n"
     ]
    },
    {
     "name": "stdout",
     "output_type": "stream",
     "text": [
      "Extracting ./data/MNIST/raw/t10k-labels-idx1-ubyte.gz to ./data/MNIST/raw\n",
      "\n",
      "Model parameters: 826,624\n",
      "Degree: 6, Hidden dim: 128\n",
      "Training Chebyshev KAN on MNIST...\n"
     ]
    },
    {
     "name": "stderr",
     "output_type": "stream",
     "text": [
      "Epoch 1/25 [Train]: 100%|██████████| 469/469 [00:35<00:00, 13.27it/s, Loss=0.9523, Acc=66.98%]\n"
     ]
    },
    {
     "name": "stdout",
     "output_type": "stream",
     "text": [
      "Epoch 1/25:\n",
      "  Train Loss: 0.9503, Train Acc: 66.98%\n",
      "  Test Loss:  0.5580, Test Acc:  81.62%\n",
      "  Best Acc:   81.62%, LR: 0.001000\n",
      "--------------------------------------------------\n"
     ]
    },
    {
     "name": "stderr",
     "output_type": "stream",
     "text": [
      "Epoch 2/25 [Train]: 100%|██████████| 469/469 [00:46<00:00, 10.19it/s, Loss=0.2992, Acc=91.03%]\n"
     ]
    },
    {
     "name": "stdout",
     "output_type": "stream",
     "text": [
      "Epoch 2/25:\n",
      "  Train Loss: 0.2992, Train Acc: 91.03%\n",
      "  Test Loss:  0.6116, Test Acc:  80.92%\n",
      "  Best Acc:   81.62%, LR: 0.001000\n",
      "--------------------------------------------------\n"
     ]
    },
    {
     "name": "stderr",
     "output_type": "stream",
     "text": [
      "Epoch 3/25 [Train]: 100%|██████████| 469/469 [01:03<00:00,  7.35it/s, Loss=0.2324, Acc=92.83%]\n"
     ]
    },
    {
     "name": "stdout",
     "output_type": "stream",
     "text": [
      "Epoch 3/25:\n",
      "  Train Loss: 0.2319, Train Acc: 92.83%\n",
      "  Test Loss:  0.6756, Test Acc:  76.29%\n",
      "  Best Acc:   81.62%, LR: 0.001000\n",
      "--------------------------------------------------\n"
     ]
    },
    {
     "name": "stderr",
     "output_type": "stream",
     "text": [
      "Epoch 4/25 [Train]: 100%|██████████| 469/469 [01:02<00:00,  7.45it/s, Loss=0.1918, Acc=94.11%]\n"
     ]
    },
    {
     "name": "stdout",
     "output_type": "stream",
     "text": [
      "Epoch 4/25:\n",
      "  Train Loss: 0.1918, Train Acc: 94.11%\n",
      "  Test Loss:  0.7852, Test Acc:  75.87%\n",
      "  Best Acc:   81.62%, LR: 0.001000\n",
      "--------------------------------------------------\n"
     ]
    },
    {
     "name": "stderr",
     "output_type": "stream",
     "text": [
      "Epoch 5/25 [Train]: 100%|██████████| 469/469 [00:49<00:00,  9.52it/s, Loss=0.1685, Acc=94.86%]\n"
     ]
    },
    {
     "name": "stdout",
     "output_type": "stream",
     "text": [
      "Epoch 5/25:\n",
      "  Train Loss: 0.1685, Train Acc: 94.86%\n",
      "  Test Loss:  0.9201, Test Acc:  68.14%\n",
      "  Best Acc:   81.62%, LR: 0.001000\n",
      "--------------------------------------------------\n"
     ]
    },
    {
     "name": "stderr",
     "output_type": "stream",
     "text": [
      "Epoch 6/25 [Train]: 100%|██████████| 469/469 [00:44<00:00, 10.64it/s, Loss=0.1496, Acc=95.39%]\n"
     ]
    },
    {
     "name": "stdout",
     "output_type": "stream",
     "text": [
      "Epoch 6/25:\n",
      "  Train Loss: 0.1493, Train Acc: 95.39%\n",
      "  Test Loss:  0.9179, Test Acc:  70.78%\n",
      "  Best Acc:   81.62%, LR: 0.001000\n",
      "--------------------------------------------------\n"
     ]
    },
    {
     "name": "stderr",
     "output_type": "stream",
     "text": [
      "Epoch 7/25 [Train]: 100%|██████████| 469/469 [00:45<00:00, 10.25it/s, Loss=0.1387, Acc=95.74%]\n"
     ]
    },
    {
     "name": "stdout",
     "output_type": "stream",
     "text": [
      "Epoch 7/25:\n",
      "  Train Loss: 0.1384, Train Acc: 95.74%\n",
      "  Test Loss:  1.3903, Test Acc:  63.29%\n",
      "  Best Acc:   81.62%, LR: 0.000500\n",
      "--------------------------------------------------\n"
     ]
    },
    {
     "name": "stderr",
     "output_type": "stream",
     "text": [
      "Epoch 8/25 [Train]: 100%|██████████| 469/469 [00:38<00:00, 12.26it/s, Loss=0.0923, Acc=97.12%]\n"
     ]
    },
    {
     "name": "stdout",
     "output_type": "stream",
     "text": [
      "Epoch 8/25:\n",
      "  Train Loss: 0.0921, Train Acc: 97.12%\n",
      "  Test Loss:  1.2698, Test Acc:  65.20%\n",
      "  Best Acc:   81.62%, LR: 0.000500\n",
      "--------------------------------------------------\n"
     ]
    },
    {
     "name": "stderr",
     "output_type": "stream",
     "text": [
      "Epoch 9/25 [Train]: 100%|██████████| 469/469 [00:36<00:00, 12.87it/s, Loss=0.0827, Acc=97.42%]\n"
     ]
    },
    {
     "name": "stdout",
     "output_type": "stream",
     "text": [
      "Epoch 9/25:\n",
      "  Train Loss: 0.0827, Train Acc: 97.42%\n",
      "  Test Loss:  0.9214, Test Acc:  71.04%\n",
      "  Best Acc:   81.62%, LR: 0.000500\n",
      "--------------------------------------------------\n"
     ]
    },
    {
     "name": "stderr",
     "output_type": "stream",
     "text": [
      "Epoch 10/25 [Train]: 100%|██████████| 469/469 [00:40<00:00, 11.44it/s, Loss=0.0788, Acc=97.53%]\n"
     ]
    },
    {
     "name": "stdout",
     "output_type": "stream",
     "text": [
      "Epoch 10/25:\n",
      "  Train Loss: 0.0788, Train Acc: 97.53%\n",
      "  Test Loss:  1.5844, Test Acc:  61.45%\n",
      "  Best Acc:   81.62%, LR: 0.000500\n",
      "--------------------------------------------------\n"
     ]
    },
    {
     "name": "stderr",
     "output_type": "stream",
     "text": [
      "Epoch 11/25 [Train]: 100%|██████████| 469/469 [00:43<00:00, 10.87it/s, Loss=0.0762, Acc=97.63%]\n"
     ]
    },
    {
     "name": "stdout",
     "output_type": "stream",
     "text": [
      "Epoch 11/25:\n",
      "  Train Loss: 0.0762, Train Acc: 97.63%\n",
      "  Test Loss:  1.0585, Test Acc:  68.11%\n",
      "  Best Acc:   81.62%, LR: 0.000500\n",
      "--------------------------------------------------\n"
     ]
    },
    {
     "name": "stderr",
     "output_type": "stream",
     "text": [
      "Epoch 12/25 [Train]: 100%|██████████| 469/469 [00:44<00:00, 10.51it/s, Loss=0.0739, Acc=97.59%]\n"
     ]
    },
    {
     "name": "stdout",
     "output_type": "stream",
     "text": [
      "Epoch 12/25:\n",
      "  Train Loss: 0.0739, Train Acc: 97.59%\n",
      "  Test Loss:  0.8870, Test Acc:  73.51%\n",
      "  Best Acc:   81.62%, LR: 0.000500\n",
      "--------------------------------------------------\n"
     ]
    },
    {
     "name": "stderr",
     "output_type": "stream",
     "text": [
      "Epoch 13/25 [Train]: 100%|██████████| 469/469 [00:45<00:00, 10.40it/s, Loss=0.0695, Acc=97.75%]\n"
     ]
    },
    {
     "name": "stdout",
     "output_type": "stream",
     "text": [
      "Epoch 13/25:\n",
      "  Train Loss: 0.0695, Train Acc: 97.75%\n",
      "  Test Loss:  1.0655, Test Acc:  70.10%\n",
      "  Best Acc:   81.62%, LR: 0.000250\n",
      "--------------------------------------------------\n"
     ]
    },
    {
     "name": "stderr",
     "output_type": "stream",
     "text": [
      "Epoch 14/25 [Train]: 100%|██████████| 469/469 [00:45<00:00, 10.29it/s, Loss=0.0434, Acc=98.62%]\n"
     ]
    },
    {
     "name": "stdout",
     "output_type": "stream",
     "text": [
      "Epoch 14/25:\n",
      "  Train Loss: 0.0434, Train Acc: 98.62%\n",
      "  Test Loss:  1.2372, Test Acc:  66.97%\n",
      "  Best Acc:   81.62%, LR: 0.000250\n",
      "--------------------------------------------------\n"
     ]
    },
    {
     "name": "stderr",
     "output_type": "stream",
     "text": [
      "Epoch 15/25 [Train]: 100%|██████████| 469/469 [00:35<00:00, 13.20it/s, Loss=0.0395, Acc=98.80%]\n"
     ]
    },
    {
     "name": "stdout",
     "output_type": "stream",
     "text": [
      "Epoch 15/25:\n",
      "  Train Loss: 0.0394, Train Acc: 98.80%\n",
      "  Test Loss:  1.0784, Test Acc:  70.26%\n",
      "  Best Acc:   81.62%, LR: 0.000250\n",
      "--------------------------------------------------\n"
     ]
    },
    {
     "name": "stderr",
     "output_type": "stream",
     "text": [
      "Epoch 16/25 [Train]: 100%|██████████| 469/469 [00:33<00:00, 13.86it/s, Loss=0.0393, Acc=98.73%]\n"
     ]
    },
    {
     "name": "stdout",
     "output_type": "stream",
     "text": [
      "Epoch 16/25:\n",
      "  Train Loss: 0.0393, Train Acc: 98.73%\n",
      "  Test Loss:  1.0575, Test Acc:  70.39%\n",
      "  Best Acc:   81.62%, LR: 0.000250\n",
      "--------------------------------------------------\n"
     ]
    },
    {
     "name": "stderr",
     "output_type": "stream",
     "text": [
      "Epoch 17/25 [Train]: 100%|██████████| 469/469 [00:33<00:00, 13.96it/s, Loss=0.0355, Acc=98.86%]\n"
     ]
    },
    {
     "name": "stdout",
     "output_type": "stream",
     "text": [
      "Epoch 17/25:\n",
      "  Train Loss: 0.0355, Train Acc: 98.86%\n",
      "  Test Loss:  0.9528, Test Acc:  74.22%\n",
      "  Best Acc:   81.62%, LR: 0.000250\n",
      "--------------------------------------------------\n"
     ]
    },
    {
     "name": "stderr",
     "output_type": "stream",
     "text": [
      "Epoch 18/25 [Train]: 100%|██████████| 469/469 [00:35<00:00, 13.06it/s, Loss=0.0346, Acc=98.83%]\n"
     ]
    },
    {
     "name": "stdout",
     "output_type": "stream",
     "text": [
      "Epoch 18/25:\n",
      "  Train Loss: 0.0345, Train Acc: 98.83%\n",
      "  Test Loss:  0.7156, Test Acc:  79.62%\n",
      "  Best Acc:   81.62%, LR: 0.000250\n",
      "--------------------------------------------------\n"
     ]
    },
    {
     "name": "stderr",
     "output_type": "stream",
     "text": [
      "Epoch 19/25 [Train]: 100%|██████████| 469/469 [00:37<00:00, 12.36it/s, Loss=0.0306, Acc=99.00%]\n"
     ]
    },
    {
     "name": "stdout",
     "output_type": "stream",
     "text": [
      "Epoch 19/25:\n",
      "  Train Loss: 0.0305, Train Acc: 99.00%\n",
      "  Test Loss:  1.1408, Test Acc:  70.17%\n",
      "  Best Acc:   81.62%, LR: 0.000125\n",
      "--------------------------------------------------\n"
     ]
    },
    {
     "name": "stderr",
     "output_type": "stream",
     "text": [
      "Epoch 20/25 [Train]: 100%|██████████| 469/469 [00:42<00:00, 10.95it/s, Loss=0.0224, Acc=99.30%]\n"
     ]
    },
    {
     "name": "stdout",
     "output_type": "stream",
     "text": [
      "Epoch 20/25:\n",
      "  Train Loss: 0.0224, Train Acc: 99.30%\n",
      "  Test Loss:  0.9332, Test Acc:  75.89%\n",
      "  Best Acc:   81.62%, LR: 0.000125\n",
      "--------------------------------------------------\n"
     ]
    },
    {
     "name": "stderr",
     "output_type": "stream",
     "text": [
      "Epoch 21/25 [Train]: 100%|██████████| 469/469 [00:45<00:00, 10.36it/s, Loss=0.0195, Acc=99.39%]\n"
     ]
    },
    {
     "name": "stdout",
     "output_type": "stream",
     "text": [
      "Epoch 21/25:\n",
      "  Train Loss: 0.0194, Train Acc: 99.39%\n",
      "  Test Loss:  0.9514, Test Acc:  74.97%\n",
      "  Best Acc:   81.62%, LR: 0.000125\n",
      "--------------------------------------------------\n"
     ]
    },
    {
     "name": "stderr",
     "output_type": "stream",
     "text": [
      "Epoch 22/25 [Train]: 100%|██████████| 469/469 [00:38<00:00, 12.06it/s, Loss=0.0192, Acc=99.41%]\n"
     ]
    },
    {
     "name": "stdout",
     "output_type": "stream",
     "text": [
      "Epoch 22/25:\n",
      "  Train Loss: 0.0192, Train Acc: 99.41%\n",
      "  Test Loss:  0.8693, Test Acc:  76.69%\n",
      "  Best Acc:   81.62%, LR: 0.000125\n",
      "--------------------------------------------------\n"
     ]
    },
    {
     "name": "stderr",
     "output_type": "stream",
     "text": [
      "Epoch 23/25 [Train]: 100%|██████████| 469/469 [00:43<00:00, 10.82it/s, Loss=0.0187, Acc=99.42%]\n"
     ]
    },
    {
     "name": "stdout",
     "output_type": "stream",
     "text": [
      "Epoch 23/25:\n",
      "  Train Loss: 0.0187, Train Acc: 99.42%\n",
      "  Test Loss:  0.9248, Test Acc:  75.64%\n",
      "  Best Acc:   81.62%, LR: 0.000125\n",
      "--------------------------------------------------\n"
     ]
    },
    {
     "name": "stderr",
     "output_type": "stream",
     "text": [
      "Epoch 24/25 [Train]: 100%|██████████| 469/469 [00:50<00:00,  9.31it/s, Loss=0.0179, Acc=99.42%]\n"
     ]
    },
    {
     "name": "stdout",
     "output_type": "stream",
     "text": [
      "Epoch 24/25:\n",
      "  Train Loss: 0.0179, Train Acc: 99.42%\n",
      "  Test Loss:  0.9352, Test Acc:  75.94%\n",
      "  Best Acc:   81.62%, LR: 0.000125\n",
      "--------------------------------------------------\n"
     ]
    },
    {
     "name": "stderr",
     "output_type": "stream",
     "text": [
      "Epoch 25/25 [Train]: 100%|██████████| 469/469 [00:43<00:00, 10.86it/s, Loss=0.0160, Acc=99.51%]\n"
     ]
    },
    {
     "name": "stdout",
     "output_type": "stream",
     "text": [
      "Epoch 25/25:\n",
      "  Train Loss: 0.0159, Train Acc: 99.51%\n",
      "  Test Loss:  1.0731, Test Acc:  73.15%\n",
      "  Best Acc:   81.62%, LR: 0.000063\n",
      "--------------------------------------------------\n",
      "Training completed in 1218.40 seconds\n",
      "Best test accuracy: 81.62%\n"
     ]
    },
    {
     "data": {
      "image/png": "[encoded data removed]",
      "text/plain": [
       "<Figure size 1080x720 with 4 Axes>"
      ]
     },
     "metadata": {
      "needs_background": "light"
     },
     "output_type": "display_data"
    },
    {
     "data": {
      "image/png": "[encoded data removed]",
      "text/plain": [
       "<Figure size 864x432 with 8 Axes>"
      ]
     },
     "metadata": {
      "needs_background": "light"
     },
     "output_type": "display_data"
    },
    {
     "name": "stdout",
     "output_type": "stream",
     "text": [
      "\n",
      "Loading best model for final evaluation...\n",
      "Final Test Accuracy: 81.62%\n",
      "\n",
      "Classification Report:\n",
      "              precision    recall  f1-score   support\n",
      "\n",
      "           0     0.9937    0.6449    0.7822       980\n",
      "           1     0.7691    0.9947    0.8675      1135\n",
      "           2     0.8548    0.9012    0.8774      1032\n",
      "           3     0.9439    0.7158    0.8142      1010\n",
      "           4     0.9761    0.7057    0.8191       982\n",
      "           5     0.5646    0.8969    0.6929       892\n",
      "           6     0.8942    0.9530    0.9227       958\n",
      "           7     0.8909    0.9134    0.9020      1028\n",
      "           8     0.9844    0.5185    0.6792       974\n",
      "           9     0.6767    0.8900    0.7688      1009\n",
      "\n",
      "    accuracy                         0.8162     10000\n",
      "   macro avg     0.8548    0.8134    0.8126     10000\n",
      "weighted avg     0.8558    0.8162    0.8150     10000\n",
      "\n",
      "\n",
      "Model Architecture Summary:\n",
      "Input: 28x28 images -> flattened to 784 features\n",
      "Layer 1: ChebyKAN(784 -> 128, degree 6)\n",
      "Layer 2: ChebyKAN(128 -> 128, degree 6)\n",
      "Layer 3: ChebyKAN(128 -> 10, degree 6)\n",
      "Total parameters: 826,624\n",
      "\n",
      "Training MLP baseline for comparison...\n",
      "Final Test Accuracy: 97.45%\n",
      "\n",
      "Classification Report:\n",
      "              precision    recall  f1-score   support\n",
      "\n",
      "           0     0.9818    0.9929    0.9873       980\n",
      "           1     0.9843    0.9947    0.9895      1135\n",
      "           2     0.9629    0.9806    0.9717      1032\n",
      "           3     0.9695    0.9762    0.9729      1010\n",
      "           4     0.9650    0.9817    0.9732       982\n",
      "           5     0.9815    0.9540    0.9676       892\n",
      "           6     0.9873    0.9749    0.9811       958\n",
      "           7     0.9773    0.9640    0.9706      1028\n",
      "           8     0.9632    0.9671    0.9652       974\n",
      "           9     0.9727    0.9544    0.9635      1009\n",
      "\n",
      "    accuracy                         0.9745     10000\n",
      "   macro avg     0.9746    0.9741    0.9743     10000\n",
      "weighted avg     0.9746    0.9745    0.9745     10000\n",
      "\n",
      "ChebyKAN vs MLP: 81.62% vs 97.45%\n"
     ]
    }
   ],
   "source": [
    "import torch\n",
    "import torch.nn as nn\n",
    "import torch.optim as optim\n",
    "from torch.utils.data import DataLoader\n",
    "from torchvision import datasets, transforms\n",
    "import matplotlib.pyplot as plt\n",
    "import numpy as np\n",
    "from tqdm import tqdm\n",
    "import time\n",
    "\n",
    "# Set device\n",
    "device = torch.device(\"cuda\" if torch.cuda.is_available() else \"cpu\")\n",
    "print(f\"Using device: {device}\")\n",
    "\n",
    "# Data transformations\n",
    "transform = transforms.Compose([\n",
    "    transforms.ToTensor(),\n",
    "    transforms.Normalize((0.1307,), (0.3081,))\n",
    "])\n",
    "\n",
    "# Load MNIST dataset\n",
    "train_dataset = datasets.MNIST('./data', train=True, download=True, transform=transform)\n",
    "test_dataset = datasets.MNIST('./data', train=False, transform=transform)\n",
    "\n",
    "# Create data loaders\n",
    "batch_size = 128\n",
    "train_loader = DataLoader(train_dataset, batch_size=batch_size, shuffle=True)\n",
    "test_loader = DataLoader(test_dataset, batch_size=batch_size, shuffle=False)\n",
    "\n",
    "# Chebyshev KAN Layer\n",
    "class ChebyKANLayer(nn.Module):\n",
    "    def __init__(self, input_dim, output_dim, degree):\n",
    "        super(ChebyKANLayer, self).__init__()\n",
    "        self.inputdim = input_dim\n",
    "        self.outdim = output_dim\n",
    "        self.degree = degree\n",
    "\n",
    "        self.cheby_coeffs = nn.Parameter(torch.empty(input_dim, output_dim, degree + 1))\n",
    "        nn.init.normal_(self.cheby_coeffs, mean=0.0, std=1/(input_dim*(degree+1)))\n",
    "        self.register_buffer(\"arange\", torch.arange(0, degree + 1, 1))\n",
    "\n",
    "    def forward(self, x):\n",
    "        # Normalize to [-1, 1] using tanh\n",
    "        x = torch.tanh(x)\n",
    "        # View and repeat input degree + 1 times\n",
    "        x = x.view((-1, self.inputdim, 1)).expand(-1, -1, self.degree + 1)\n",
    "        # Apply acos and multiply by arange [0..degree]\n",
    "        x = (x.acos() * self.arange).cos()\n",
    "        # Compute Chebyshev interpolation using einsum\n",
    "        y = torch.einsum(\"bid,iod->bo\", x, self.cheby_coeffs)\n",
    "        return y.view(-1, self.outdim)\n",
    "\n",
    "# Chebyshev KAN Model for MNIST\n",
    "class MNIST_ChebyKAN(nn.Module):\n",
    "    def __init__(self, degree=4, hidden_dim=64):\n",
    "        super(MNIST_ChebyKAN, self).__init__()\n",
    "\n",
    "        # Architecture: 784 -> hidden_dim -> hidden_dim -> 10\n",
    "        self.chebykan1 = ChebyKANLayer(784, hidden_dim, degree)\n",
    "        self.ln1 = nn.LayerNorm(hidden_dim)\n",
    "        self.chebykan2 = ChebyKANLayer(hidden_dim, hidden_dim, degree)\n",
    "        self.ln2 = nn.LayerNorm(hidden_dim)\n",
    "        self.chebykan3 = ChebyKANLayer(hidden_dim, 10, degree)\n",
    "\n",
    "        self.dropout = nn.Dropout(0.2)\n",
    "\n",
    "    def forward(self, x):\n",
    "        # Flatten the image\n",
    "        x = x.view(-1, 784)\n",
    "\n",
    "        # First Chebyshev KAN layer\n",
    "        x = self.chebykan1(x)\n",
    "        x = torch.tanh(self.ln1(x))\n",
    "        x = self.dropout(x)\n",
    "\n",
    "        # Second Chebyshev KAN layer\n",
    "        x = self.chebykan2(x)\n",
    "        x = torch.tanh(self.ln2(x))\n",
    "        x = self.dropout(x)\n",
    "\n",
    "        # Final classification layer\n",
    "        x = self.chebykan3(x)\n",
    "        return x\n",
    "\n",
    "# Create model\n",
    "degree = 6\n",
    "hidden_dim = 128\n",
    "model = MNIST_ChebyKAN(degree=degree, hidden_dim=hidden_dim).to(device)\n",
    "\n",
    "# Count parameters\n",
    "total_params = sum(p.numel() for p in model.parameters())\n",
    "print(f\"Model parameters: {total_params:,}\")\n",
    "print(f\"Degree: {degree}, Hidden dim: {hidden_dim}\")\n",
    "\n",
    "# Loss and optimizer\n",
    "criterion = nn.CrossEntropyLoss()\n",
    "optimizer = optim.Adam(model.parameters(), lr=0.001, weight_decay=1e-5)\n",
    "scheduler = optim.lr_scheduler.ReduceLROnPlateau(optimizer, patience=5, factor=0.5)\n",
    "\n",
    "# Training function\n",
    "def train_model(model, train_loader, test_loader, num_epochs=20):\n",
    "    train_losses = []\n",
    "    test_losses = []\n",
    "    train_accuracies = []\n",
    "    test_accuracies = []\n",
    "    learning_rates = []\n",
    "\n",
    "    best_accuracy = 0.0\n",
    "    start_time = time.time()\n",
    "\n",
    "    for epoch in range(num_epochs):\n",
    "        # Training phase\n",
    "        model.train()\n",
    "        running_loss = 0.0\n",
    "        correct = 0\n",
    "        total = 0\n",
    "\n",
    "        train_pbar = tqdm(train_loader, desc=f'Epoch {epoch+1}/{num_epochs} [Train]')\n",
    "        for images, labels in train_pbar:\n",
    "            images, labels = images.to(device), labels.to(device)\n",
    "\n",
    "            optimizer.zero_grad()\n",
    "            outputs = model(images)\n",
    "            loss = criterion(outputs, labels)\n",
    "            loss.backward()\n",
    "            optimizer.step()\n",
    "\n",
    "            running_loss += loss.item()\n",
    "            _, predicted = torch.max(outputs.data, 1)\n",
    "            total += labels.size(0)\n",
    "            correct += (predicted == labels).sum().item()\n",
    "\n",
    "            train_pbar.set_postfix({\n",
    "                'Loss': f'{running_loss/(train_pbar.n+1):.4f}',\n",
    "                'Acc': f'{100*correct/total:.2f}%'\n",
    "            })\n",
    "\n",
    "        train_loss = running_loss / len(train_loader)\n",
    "        train_accuracy = 100 * correct / total\n",
    "        train_losses.append(train_loss)\n",
    "        train_accuracies.append(train_accuracy)\n",
    "\n",
    "        # Testing phase\n",
    "        model.eval()\n",
    "        test_loss = 0.0\n",
    "        correct = 0\n",
    "        total = 0\n",
    "\n",
    "        with torch.no_grad():\n",
    "            for images, labels in test_loader:\n",
    "                images, labels = images.to(device), labels.to(device)\n",
    "                outputs = model(images)\n",
    "                loss = criterion(outputs, labels)\n",
    "\n",
    "                test_loss += loss.item()\n",
    "                _, predicted = torch.max(outputs.data, 1)\n",
    "                total += labels.size(0)\n",
    "                correct += (predicted == labels).sum().item()\n",
    "\n",
    "        test_loss /= len(test_loader)\n",
    "        test_accuracy = 100 * correct / total\n",
    "        test_losses.append(test_loss)\n",
    "        test_accuracies.append(test_accuracy)\n",
    "\n",
    "        # Update scheduler\n",
    "        scheduler.step(test_loss)\n",
    "        learning_rates.append(optimizer.param_groups[0]['lr'])\n",
    "\n",
    "        # Save best model\n",
    "        if test_accuracy > best_accuracy:\n",
    "            best_accuracy = test_accuracy\n",
    "            torch.save(model.state_dict(), 'best_chebykan_mnist.pth')\n",
    "\n",
    "        print(f'Epoch {epoch+1}/{num_epochs}:')\n",
    "        print(f'  Train Loss: {train_loss:.4f}, Train Acc: {train_accuracy:.2f}%')\n",
    "        print(f'  Test Loss:  {test_loss:.4f}, Test Acc:  {test_accuracy:.2f}%')\n",
    "        print(f'  Best Acc:   {best_accuracy:.2f}%, LR: {learning_rates[-1]:.6f}')\n",
    "        print('-' * 50)\n",
    "\n",
    "    training_time = time.time() - start_time\n",
    "    print(f'Training completed in {training_time:.2f} seconds')\n",
    "    print(f'Best test accuracy: {best_accuracy:.2f}%')\n",
    "\n",
    "    return train_losses, test_losses, train_accuracies, test_accuracies, learning_rates\n",
    "\n",
    "# Train the model\n",
    "num_epochs = 25\n",
    "print(\"Training Chebyshev KAN on MNIST...\")\n",
    "train_losses, test_losses, train_accuracies, test_accuracies, learning_rates = train_model(\n",
    "    model, train_loader, test_loader, num_epochs\n",
    ")\n",
    "\n",
    "# Visualization\n",
    "plt.figure(figsize=(15, 10))\n",
    "\n",
    "# Plot 1: Training and test accuracy\n",
    "plt.subplot(2, 2, 1)\n",
    "plt.plot(train_accuracies, label='Train Accuracy', linewidth=2)\n",
    "plt.plot(test_accuracies, label='Test Accuracy', linewidth=2)\n",
    "plt.xlabel('Epoch')\n",
    "plt.ylabel('Accuracy (%)')\n",
    "plt.title('Training and Test Accuracy')\n",
    "plt.legend()\n",
    "plt.grid(True)\n",
    "\n",
    "# Plot 2: Training and test loss\n",
    "plt.subplot(2, 2, 2)\n",
    "plt.plot(train_losses, label='Train Loss', linewidth=2)\n",
    "plt.plot(test_losses, label='Test Loss', linewidth=2)\n",
    "plt.xlabel('Epoch')\n",
    "plt.ylabel('Loss')\n",
    "plt.title('Training and Test Loss')\n",
    "plt.legend()\n",
    "plt.grid(True)\n",
    "plt.yscale('log')\n",
    "\n",
    "# Plot 3: Learning rate schedule\n",
    "plt.subplot(2, 2, 3)\n",
    "plt.plot(learning_rates, label='Learning Rate', linewidth=2, color='purple')\n",
    "plt.xlabel('Epoch')\n",
    "plt.ylabel('Learning Rate')\n",
    "plt.title('Learning Rate Schedule')\n",
    "plt.legend()\n",
    "plt.grid(True)\n",
    "plt.yscale('log')\n",
    "\n",
    "# Plot 4: Sample predictions\n",
    "plt.subplot(2, 2, 4)\n",
    "model.eval()\n",
    "with torch.no_grad():\n",
    "    # Get some test samples\n",
    "    images, labels = next(iter(test_loader))\n",
    "    images, labels = images.to(device), labels.to(device)\n",
    "    outputs = model(images[:8])\n",
    "    _, predictions = torch.max(outputs, 1)\n",
    "\n",
    "    # Display samples\n",
    "    fig, axes = plt.subplots(2, 4, figsize=(12, 6))\n",
    "    for i, ax in enumerate(axes.flat):\n",
    "        ax.imshow(images[i].cpu().squeeze(), cmap='gray')\n",
    "        ax.set_title(f'True: {labels[i].item()}\\nPred: {predictions[i].item()}')\n",
    "        ax.axis('off')\n",
    "    plt.tight_layout()\n",
    "\n",
    "plt.tight_layout()\n",
    "plt.savefig('chebykan_mnist_results.png', dpi=300, bbox_inches='tight')\n",
    "plt.show()\n",
    "\n",
    "# Final evaluation on test set\n",
    "def evaluate_model(model, test_loader):\n",
    "    model.eval()\n",
    "    all_preds = []\n",
    "    all_labels = []\n",
    "    correct = 0\n",
    "    total = 0\n",
    "\n",
    "    with torch.no_grad():\n",
    "        for images, labels in test_loader:\n",
    "            images, labels = images.to(device), labels.to(device)\n",
    "            outputs = model(images)\n",
    "            _, predicted = torch.max(outputs.data, 1)\n",
    "\n",
    "            all_preds.extend(predicted.cpu().numpy())\n",
    "            all_labels.extend(labels.cpu().numpy())\n",
    "            total += labels.size(0)\n",
    "            correct += (predicted == labels).sum().item()\n",
    "\n",
    "    accuracy = 100 * correct / total\n",
    "    print(f'Final Test Accuracy: {accuracy:.2f}%')\n",
    "\n",
    "    # Confusion matrix (simplified)\n",
    "    from sklearn.metrics import confusion_matrix, classification_report\n",
    "    cm = confusion_matrix(all_labels, all_preds)\n",
    "    print(\"\\nClassification Report:\")\n",
    "    print(classification_report(all_labels, all_preds, digits=4))\n",
    "\n",
    "    return accuracy, cm\n",
    "\n",
    "# Load best model and evaluate\n",
    "print(\"\\nLoading best model for final evaluation...\")\n",
    "model.load_state_dict(torch.load('best_chebykan_mnist.pth'))\n",
    "final_accuracy, confusion_matrix = evaluate_model(model, test_loader)\n",
    "\n",
    "# Print model summary\n",
    "print(\"\\nModel Architecture Summary:\")\n",
    "print(f\"Input: 28x28 images -> flattened to 784 features\")\n",
    "print(f\"Layer 1: ChebyKAN(784 -> {hidden_dim}, degree {degree})\")\n",
    "print(f\"Layer 2: ChebyKAN({hidden_dim} -> {hidden_dim}, degree {degree})\")\n",
    "print(f\"Layer 3: ChebyKAN({hidden_dim} -> 10, degree {degree})\")\n",
    "print(f\"Total parameters: {total_params:,}\")\n",
    "\n",
    "# Compare with simple MLP baseline\n",
    "class SimpleMLP(nn.Module):\n",
    "    def __init__(self, hidden_dim=128):\n",
    "        super(SimpleMLP, self).__init__()\n",
    "        self.fc1 = nn.Linear(784, hidden_dim)\n",
    "        self.fc2 = nn.Linear(hidden_dim, hidden_dim)\n",
    "        self.fc3 = nn.Linear(hidden_dim, 10)\n",
    "        self.relu = nn.ReLU()\n",
    "        self.dropout = nn.Dropout(0.2)\n",
    "\n",
    "    def forward(self, x):\n",
    "        x = x.view(-1, 784)\n",
    "        x = self.relu(self.fc1(x))\n",
    "        x = self.dropout(x)\n",
    "        x = self.relu(self.fc2(x))\n",
    "        x = self.dropout(x)\n",
    "        x = self.fc3(x)\n",
    "        return x\n",
    "\n",
    "print(\"\\nTraining MLP baseline for comparison...\")\n",
    "mlp_model = SimpleMLP(hidden_dim=hidden_dim).to(device)\n",
    "mlp_optimizer = optim.Adam(mlp_model.parameters(), lr=0.001)\n",
    "mlp_criterion = nn.CrossEntropyLoss()\n",
    "\n",
    "# Quick MLP training\n",
    "mlp_model.train()\n",
    "for epoch in range(5):  # Fewer epochs for quick comparison\n",
    "    for images, labels in train_loader:\n",
    "        images, labels = images.to(device), labels.to(device)\n",
    "        mlp_optimizer.zero_grad()\n",
    "        outputs = mlp_model(images)\n",
    "        loss = mlp_criterion(outputs, labels)\n",
    "        loss.backward()\n",
    "        mlp_optimizer.step()\n",
    "\n",
    "mlp_model.eval()\n",
    "mlp_accuracy, _ = evaluate_model(mlp_model, test_loader)\n",
    "print(f\"ChebyKAN vs MLP: {final_accuracy:.2f}% vs {mlp_accuracy:.2f}%\")"
   ]
  }
 ],
 "metadata": {
  "kernelspec": {
   "display_name": "Python 3",
   "language": "python",
   "name": "python3"
  },
  "language_info": {
   "codemirror_mode": {
    "name": "ipython",
    "version": 3
   },
   "file_extension": ".py",
   "mimetype": "text/x-python",
   "name": "python",
   "nbconvert_exporter": "python",
   "pygments_lexer": "ipython3",
   "version": "3.8.10"
  }
 },
 "nbformat": 4,
 "nbformat_minor": 5
}
